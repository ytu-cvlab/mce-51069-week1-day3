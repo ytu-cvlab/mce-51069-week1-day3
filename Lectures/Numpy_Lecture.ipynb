{
 "cells": [
  {
   "cell_type": "markdown",
   "metadata": {},
   "source": [
    "# Numpy\n",
    "\n",
    "Numpy is a strong third-party library that emphasizes numerical calculations in python. \n",
    "\n",
    "In short, NumPy has a `ndArray` data type, which can process a large number of numbers faster and more efficiently than `List`.\n",
    "\n",
    "## Table of Content\n",
    "\n",
    "### [The Basics](#basics)\n",
    " - [Arrays Creation](#create)\n",
    " - [Basic Operations](#op)\n",
    " - [Indexing, Slicing and Iterating](#index)\n",
    " - [Arrays Manipulation](#man)\n",
    " - [Ordering](#order)\n",
    " - [Basic Statistics](#stat)\n",
    " \n",
    "### [Simple Comparison](#compare)\n",
    " - [Code Complexity](#code)\n",
    " - [Speed](#speed)\n",
    "\n",
    "### [Further Resources](#resources)"
   ]
  },
  {
   "cell_type": "markdown",
   "metadata": {},
   "source": [
    "<a id=basics></a>\n",
    "## The Basics\n",
    "\n",
    "<a id=create></a>\n",
    "### Arrays Creation\n",
    "\n",
    "First, we will have to import `numpy` library. In python, it is\n",
    "```python\n",
    "import numpy as np\n",
    "```\n",
    "Here, `np` is a convention that abbreviates **numpy**. So that, later in the program, we just need to type `np` to call **numpy** library. \n",
    "\n",
    "There are many ways to create a numpy array.\n",
    "First, let's create an array from list.\n",
    "```python\n",
    "array = np.array(list)\n",
    "```"
   ]
  },
  {
   "cell_type": "code",
   "execution_count": 1,
   "metadata": {},
   "outputs": [
    {
     "name": "stdout",
     "output_type": "stream",
     "text": [
      "[[1, 2, 3, 4, 5], [6, 7, 8, 9, 10]]\n",
      "[[ 1  2  3  4  5]\n",
      " [ 6  7  8  9 10]]\n",
      "<class 'numpy.ndarray'>\n"
     ]
    }
   ],
   "source": [
    "# import numpy library\n",
    "import numpy as np\n",
    "\n",
    "list_object = [[1, 2, 3, 4, 5],\n",
    "               [6, 7, 8, 9, 10]]\n",
    "\n",
    "# Let's Create an array\n",
    "array = np.array(list_object)\n",
    "\n",
    "# Print Out the Array\n",
    "print(list_object)\n",
    "print(array)\n",
    "print(type(array))"
   ]
  },
  {
   "cell_type": "markdown",
   "metadata": {},
   "source": [
    "In the **list**, printing the object separates each element with a *comma* whilst in an array, it separates each one with *space*.\n",
    "\n",
    "The Attributes for ndarray:<br><br>\n",
    "![](animations/attributes.gif)"
   ]
  },
  {
   "cell_type": "code",
   "execution_count": 2,
   "metadata": {},
   "outputs": [
    {
     "name": "stdout",
     "output_type": "stream",
     "text": [
      "int64\n",
      "8\n",
      "10\n",
      "2\n",
      "(2, 5)\n",
      "80\n"
     ]
    }
   ],
   "source": [
    "# The attributes in `ndarray`.\n",
    "# Check dtype of the array\n",
    "print(array.dtype)\n",
    "\n",
    "# Check item size (number of Bytes)\n",
    "print(array.itemsize)\n",
    "\n",
    "# Check array Size [Number of elements in that array]\n",
    "print(array.size)\n",
    "\n",
    "# Check number of axis\n",
    "print(array.ndim)\n",
    "\n",
    "# Check shape of array\n",
    "print(array.shape)\n",
    "\n",
    "# Check the byte of each element\n",
    "print(array.nbytes)"
   ]
  },
  {
   "cell_type": "markdown",
   "metadata": {},
   "source": [
    "We can also create arrays from range. `np.arange` function is just like `range()` from python built-in functions.\n",
    "```python\n",
    "np.arange([start,] stop[, step,], dtype=None)\n",
    "```\n",
    "The square bracket '[ ]' here means it is the optional argument and it has the default value set up. If we do not specify the value, it will take the default value.\n",
    "\n",
    "e.g. the default value for *start* argument is **0**."
   ]
  },
  {
   "cell_type": "code",
   "execution_count": 2,
   "metadata": {},
   "outputs": [
    {
     "name": "stdout",
     "output_type": "stream",
     "text": [
      "[ 0  1  2  3  4  5  6  7  8  9 10 11 12 13 14 15 16 17 18 19]\n",
      "[ 2  4  6  8 10 12 14 16 18]\n",
      "[]\n",
      "[40 38 36 34 32 30 28 26 24 22]\n",
      "[0.  0.3 0.6 0.9 1.2 1.5 1.8]\n"
     ]
    }
   ],
   "source": [
    "# Let's create another array with np.arange() function\n",
    "\n",
    "array = np.arange(20)\n",
    "print(array)\n",
    "\n",
    "array = np.arange(2, 20, 2)\n",
    "print(array)\n",
    "\n",
    "# start and stop same\n",
    "array = np.arange(2, 2, 2)\n",
    "print(array)\n",
    "\n",
    "# Reverse\n",
    "array = np.arange(40, 20, -2)\n",
    "print(array)\n",
    "\n",
    "# Float points\n",
    "array = np.arange(0, 2, 0.3)\n",
    "print(array)"
   ]
  },
  {
   "cell_type": "markdown",
   "metadata": {},
   "source": [
    "But, with `np.arange`, we could not control the numbers of element in that array. But with `np.linspace`, it can be achieved.\n",
    "```python\n",
    "array = np.linspace(start, stop, num=50)\n",
    "```\n",
    "\n",
    "Here, the *num* is set to default with **50**, but we could alos specify the numbers of element that we want between the range."
   ]
  },
  {
   "cell_type": "code",
   "execution_count": 21,
   "metadata": {},
   "outputs": [
    {
     "name": "stdout",
     "output_type": "stream",
     "text": [
      "[0.  0.5 1.  1.5 2. ]\n",
      "(20,)\n",
      "[20.         19.05263158 18.10526316 17.15789474 16.21052632 15.26315789\n",
      " 14.31578947 13.36842105 12.42105263 11.47368421 10.52631579  9.57894737\n",
      "  8.63157895  7.68421053  6.73684211  5.78947368  4.84210526  3.89473684\n",
      "  2.94736842  2.        ]\n",
      "[20. 20. 20. 20. 20.]\n"
     ]
    }
   ],
   "source": [
    "# Create with the count of array wanted\n",
    "array = np.linspace(0, 2, 5)\n",
    "print(array)\n",
    "\n",
    "# reverse\n",
    "array = np.linspace(20, 2, 20)\n",
    "print(array.shape)\n",
    "print(array)\n",
    "\n",
    "# start and end same\n",
    "array = np.linspace(20, 20, 5)\n",
    "print(array)"
   ]
  },
  {
   "cell_type": "markdown",
   "metadata": {},
   "source": [
    "\n",
    "We can also initialize arrays by just describing the shape of the array that we want.\n",
    "\n",
    "\n",
    "```python\n",
    "zeros = np.zeros(shape, dtype, order='C')\n",
    "ones = np.ones(shape, dtype, order='C')\n",
    "empty = np.empty(shape, dtype, order='C')\n",
    "```"
   ]
  },
  {
   "cell_type": "code",
   "execution_count": 3,
   "metadata": {
    "scrolled": true
   },
   "outputs": [
    {
     "name": "stdout",
     "output_type": "stream",
     "text": [
      "[[0. 0. 0. 0. 0.]\n",
      " [0. 0. 0. 0. 0.]\n",
      " [0. 0. 0. 0. 0.]\n",
      " [0. 0. 0. 0. 0.]\n",
      " [0. 0. 0. 0. 0.]]\n",
      "float64\n"
     ]
    }
   ],
   "source": [
    "# Initialize an array for place holder\n",
    "array = np.zeros((5,5))\n",
    "print(array)\n",
    "print(array.dtype)"
   ]
  },
  {
   "cell_type": "markdown",
   "metadata": {},
   "source": [
    "The default data type, when creating such array, is `float64`. But if we want to specify the data type of the array, we can do it as follows:"
   ]
  },
  {
   "cell_type": "code",
   "execution_count": 23,
   "metadata": {},
   "outputs": [
    {
     "name": "stdout",
     "output_type": "stream",
     "text": [
      "[[0 0 0]\n",
      " [0 0 0]\n",
      " [0 0 0]]\n",
      "uint8\n"
     ]
    }
   ],
   "source": [
    "# Set data type to `uint8`\n",
    "array = np.zeros((3,3), dtype=np.uint8)\n",
    "print(array)\n",
    "print(array.dtype)"
   ]
  },
  {
   "cell_type": "markdown",
   "metadata": {},
   "source": [
    "`np.ones()` and `np.empty()` also initialize arrays like `np.zeros()`, but with different values."
   ]
  },
  {
   "cell_type": "code",
   "execution_count": 29,
   "metadata": {},
   "outputs": [
    {
     "name": "stdout",
     "output_type": "stream",
     "text": [
      "[[1. 1. 1. 1. 1.]\n",
      " [1. 1. 1. 1. 1.]\n",
      " [1. 1. 1. 1. 1.]\n",
      " [1. 1. 1. 1. 1.]\n",
      " [1. 1. 1. 1. 1.]]\n"
     ]
    }
   ],
   "source": [
    "array = np.ones((5,5))\n",
    "print(array)"
   ]
  },
  {
   "cell_type": "code",
   "execution_count": 30,
   "metadata": {},
   "outputs": [
    {
     "name": "stdout",
     "output_type": "stream",
     "text": [
      "[[1. 1. 1. 1. 1.]\n",
      " [1. 1. 1. 1. 1.]\n",
      " [1. 1. 1. 1. 1.]\n",
      " [1. 1. 1. 1. 1.]\n",
      " [1. 1. 1. 1. 1.]]\n"
     ]
    }
   ],
   "source": [
    "array = np.empty((5,5))\n",
    "print(array)"
   ]
  },
  {
   "cell_type": "markdown",
   "metadata": {},
   "source": [
    "We can also create arrays from the existing list and set object by using `np.array()` function. Numpy can automatically choose the data type and set the data type for the array as either `int64` or `float64`."
   ]
  },
  {
   "cell_type": "code",
   "execution_count": 6,
   "metadata": {},
   "outputs": [
    {
     "name": "stdout",
     "output_type": "stream",
     "text": [
      "[1, 2, 3, 4] [1 2 3 4]\n"
     ]
    }
   ],
   "source": [
    "# Create with existing Variable\n",
    "\n",
    "list_var = ([1, 2, 3, 4])\n",
    "array = np.array(list_var)\n",
    "print(list_var, array)"
   ]
  },
  {
   "cell_type": "code",
   "execution_count": 27,
   "metadata": {},
   "outputs": [
    {
     "name": "stdout",
     "output_type": "stream",
     "text": [
      "[[1, 2, 3], [4, 5, 6]] \n",
      " [[1 2 3]\n",
      " [4 5 6]]\n",
      "int64\n",
      "((1, 2, 3), (4, 5, 6)) \n",
      " [[1 2 3]\n",
      " [4 5 6]]\n",
      "int64\n"
     ]
    }
   ],
   "source": [
    "nested_list = [[1, 2, 3], [4, 5, 6]]\n",
    "nested_array = np.array(nested_list)\n",
    "\n",
    "print(nested_list, '\\n', nested_array)\n",
    "print(nested_array.dtype)\n",
    "\n",
    "\n",
    "nested_set = ((1, 2, 3), (4, 5, 6))\n",
    "nested_array = np.array(nested_set)\n",
    "print(nested_set, '\\n', nested_array)\n",
    "print(nested_array.dtype)"
   ]
  },
  {
   "cell_type": "code",
   "execution_count": 29,
   "metadata": {},
   "outputs": [
    {
     "name": "stdout",
     "output_type": "stream",
     "text": [
      "<class 'float'> float64\n",
      "[1.0, 2.0, 3.0] [1. 2. 3.]\n"
     ]
    }
   ],
   "source": [
    "list_var = [1., 2., 3.]\n",
    "array = np.array(list_var)\n",
    "\n",
    "print(type(list_var[0]), array.dtype)\n",
    "print(list_var, array)"
   ]
  },
  {
   "cell_type": "code",
   "execution_count": 29,
   "metadata": {},
   "outputs": [
    {
     "name": "stdout",
     "output_type": "stream",
     "text": [
      "<class 'float'> uint8\n",
      "[1.0, 2.0, 3.0] [1 2 3]\n"
     ]
    }
   ],
   "source": [
    "# But we can also specify the data type in `dtype` argument.\n",
    "list_var = [1., 2., 3.]\n",
    "array = np.array(list_var, dtype=np.uint8)\n",
    "\n",
    "print(type(list_var[0]), array.dtype)\n",
    "print(list_var, array)"
   ]
  },
  {
   "cell_type": "markdown",
   "metadata": {},
   "source": [
    "<a id=op></a>\n",
    "### Basic Operations"
   ]
  },
  {
   "cell_type": "code",
   "execution_count": 1,
   "metadata": {},
   "outputs": [
    {
     "name": "stdout",
     "output_type": "stream",
     "text": [
      "Addition of two array : \t [5 7 9]\n",
      "Subtraction of two array : \t [-3 -3 -3]\n",
      "Multiplication of two array : \t [ 4 10 18]\n",
      "Division of two array : \t [0.25 0.4  0.5 ]\n"
     ]
    }
   ],
   "source": [
    "import numpy as np\n",
    "\n",
    "# Simple Arithmetic Operations\n",
    "array_a = np.array([1, 2, 3])\n",
    "array_b = np.array([4, 5, 6])\n",
    "\n",
    "print(\"Addition of two array : \\t\", array_a + array_b)\n",
    "print(\"Subtraction of two array : \\t\", array_a - array_b)\n",
    "print(\"Multiplication of two array : \\t\", array_a * array_b)\n",
    "print(\"Division of two array : \\t\", array_a / array_b)"
   ]
  },
  {
   "cell_type": "markdown",
   "metadata": {},
   "source": [
    "There are also many scientific functions built-in in numpy. These functions are called [universal functions](https://numpy.org/doc/stable/reference/ufuncs.html)."
   ]
  },
  {
   "cell_type": "code",
   "execution_count": 32,
   "metadata": {
    "scrolled": true
   },
   "outputs": [
    {
     "name": "stdout",
     "output_type": "stream",
     "text": [
      "[ 0.84147098  0.93580167  0.98880935  0.99815331  0.96342094  0.88614595\n",
      "  0.76974064  0.61934522  0.44160084  0.2443563   0.0363215  -0.17331717\n",
      " -0.37530253 -0.56071532 -0.72136812 -0.85016684 -0.94142399 -0.99110987\n",
      " -0.99703045 -0.95892427]\n",
      "[ 0.54030231  0.35252692  0.1491847  -0.0607452  -0.26799272 -0.46340626\n",
      " -0.63835676 -0.78511878 -0.89721163 -0.96968552 -0.99934016 -0.98486606\n",
      " -0.92690238 -0.82800865 -0.69255183 -0.52651339 -0.33722524 -0.13304594\n",
      "  0.07700839  0.28366219]\n",
      "[  2.71828183   3.35525011   4.1414776    5.11193983   6.30980809\n",
      "   7.78836987   9.61339939  11.86608357  14.64663368  18.07874325\n",
      "  22.31509059  27.54413077  33.99847904  41.96525883  51.79887449\n",
      "  63.93677707  78.91892444  97.41180148 120.23806881 148.4131591 ]\n",
      "[0.         0.19105524 0.35139789 0.48954823 0.61090908 0.71912267\n",
      " 0.81676114 0.90570862 0.98738665 1.06289421 1.13309846 1.19869575\n",
      " 1.26025364 1.3182409  1.37304913 1.42500887 1.47440163 1.52146914\n",
      " 1.56642053 1.60943791]\n"
     ]
    }
   ],
   "source": [
    "x = np.linspace(1, 5, 20)\n",
    "\n",
    "sine_array = np.sin(x)\n",
    "cos_array = np.cos(x)\n",
    "exp_array = np.exp(x)\n",
    "log_array = np.log(x)\n",
    "\n",
    "print(sine_array)\n",
    "print(cos_array)\n",
    "print(exp_array)\n",
    "print(log_array)"
   ]
  },
  {
   "cell_type": "markdown",
   "metadata": {},
   "source": [
    "The random function in Numpy is also strong. It has the collection of various random distributons built in, including: **Uniform Distribution**, **Standard Normal Distribution** and **Gaussian Distribution**."
   ]
  },
  {
   "cell_type": "code",
   "execution_count": 82,
   "metadata": {},
   "outputs": [
    {
     "name": "stdout",
     "output_type": "stream",
     "text": [
      "(100,)\n",
      "(100,)\n",
      "(100,)\n"
     ]
    }
   ],
   "source": [
    "# Uniform Distribution\n",
    "uniform_dist = np.random.rand(100)\n",
    "print(uniform_dist.shape)\n",
    "\n",
    "# Standard Normal Distribution\n",
    "standard_normal_dist = np.random.randn(100)\n",
    "print(standard_normal_dist.shape)\n",
    "\n",
    "# Gaussian Distribution\n",
    "gaussian_dist = np.random.normal(1, 2, 100)\n",
    "print(gaussian_dist.shape)"
   ]
  },
  {
   "cell_type": "markdown",
   "metadata": {},
   "source": [
    "<a id=index></a>\n",
    "### Indexing, Slicing and Iterating\n",
    "\n",
    "![](animations/indexing.gif)"
   ]
  },
  {
   "cell_type": "markdown",
   "metadata": {},
   "source": [
    "1D Arrays can be indexed, sliced and iterated over much like list. For the arrays of higher dimensions, we have to specify the index or range for each specific axes.\n",
    "\n",
    "#### 1D Array"
   ]
  },
  {
   "cell_type": "code",
   "execution_count": 60,
   "metadata": {},
   "outputs": [
    {
     "name": "stdout",
     "output_type": "stream",
     "text": [
      "[ 0  2  4  6  8 10 12 14 16 18]\n"
     ]
    }
   ],
   "source": [
    "a = np.arange(0, 20, 2)\n",
    "print(a)"
   ]
  },
  {
   "cell_type": "code",
   "execution_count": 61,
   "metadata": {},
   "outputs": [
    {
     "name": "stdout",
     "output_type": "stream",
     "text": [
      "2\n"
     ]
    }
   ],
   "source": [
    "# Index : Select sepecific element\n",
    "element = a[1]\n",
    "print(element)"
   ]
  },
  {
   "cell_type": "code",
   "execution_count": 62,
   "metadata": {},
   "outputs": [
    {
     "name": "stdout",
     "output_type": "stream",
     "text": [
      "[2 4 6 8]\n"
     ]
    }
   ],
   "source": [
    "# Slicing : Select Range of element\n",
    "range_element = a[1:5]\n",
    "print(range_element)"
   ]
  },
  {
   "cell_type": "code",
   "execution_count": 65,
   "metadata": {},
   "outputs": [
    {
     "name": "stdout",
     "output_type": "stream",
     "text": [
      "[16 14 12 10  8  6]\n"
     ]
    }
   ],
   "source": [
    "# Reverse Slicing\n",
    "reverse_element = a[8:2:-1]\n",
    "print(reverse_element)"
   ]
  },
  {
   "cell_type": "code",
   "execution_count": 67,
   "metadata": {
    "scrolled": true
   },
   "outputs": [
    {
     "name": "stdout",
     "output_type": "stream",
     "text": [
      "0\n",
      "2\n",
      "4\n",
      "6\n",
      "8\n",
      "10\n",
      "12\n",
      "14\n",
      "16\n",
      "18\n"
     ]
    }
   ],
   "source": [
    "# Iteration\n",
    "for i in a:\n",
    "    print(i)"
   ]
  },
  {
   "cell_type": "markdown",
   "metadata": {},
   "source": [
    "#### 2D and higher Dimension Arrays"
   ]
  },
  {
   "cell_type": "code",
   "execution_count": 10,
   "metadata": {},
   "outputs": [
    {
     "name": "stdout",
     "output_type": "stream",
     "text": [
      "(2, 3)\n",
      "[[1 2 3]\n",
      " [4 5 6]]\n",
      "\n",
      "1 6\n",
      "\n",
      "[1 2 3] [1 4]\n"
     ]
    }
   ],
   "source": [
    "# 2D array\n",
    "array = np.array([[1, 2, 3], [4, 5, 6]])\n",
    "print(array.shape)\n",
    "print(array)\n",
    "\n",
    "# Indexing\n",
    "first_element = array[0, 0]\n",
    "last_element = array[-1, -1]\n",
    "print()\n",
    "print(first_element, last_element)\n",
    "\n",
    "# Range\n",
    "first_row = array[0, :]\n",
    "first_column = array[:, 0]\n",
    "print()\n",
    "print(first_row, first_column)"
   ]
  },
  {
   "cell_type": "code",
   "execution_count": 11,
   "metadata": {},
   "outputs": [
    {
     "name": "stdout",
     "output_type": "stream",
     "text": [
      "(3, 2, 3)\n",
      "[[[ 1  2  3]\n",
      "  [ 4  5  6]]\n",
      "\n",
      " [[ 7  8  9]\n",
      "  [10 11 12]]\n",
      "\n",
      " [[13 14 15]\n",
      "  [16 17 18]]]\n",
      "\n",
      "1 18\n",
      "[[[ 1  2  3]\n",
      "  [ 4  5  6]]\n",
      "\n",
      " [[ 7  8  9]\n",
      "  [10 11 12]]\n",
      "\n",
      " [[13 14 15]\n",
      "  [16 17 18]]]\n",
      "\n",
      "[[ 1  4]\n",
      " [ 7 10]\n",
      " [13 16]] [[ 2  5]\n",
      " [ 8 11]\n",
      " [14 17]] [[ 3  6]\n",
      " [ 9 12]\n",
      " [15 18]]\n"
     ]
    }
   ],
   "source": [
    "# 3D array\n",
    "array = np.array([[[1, 2, 3], [4, 5, 6]],\n",
    "                  [[7, 8, 9], [10, 11, 12]],\n",
    "                  [[13, 14, 15], [16, 17, 18]]])\n",
    "\n",
    "print(array.shape)\n",
    "print(array)\n",
    "\n",
    "\n",
    "# Indexing\n",
    "first_element = array[0, 0, 0] # First_element\n",
    "last_element = array[-1, -1, -1] # Last_element\n",
    "print()\n",
    "print(first_element, last_element)\n",
    "\n",
    "# Range\n",
    "print(array)\n",
    "r_channel = array[:, :, 0]\n",
    "g_channel = array[:, :, 1]\n",
    "b_channel = array[:, :, 2]\n",
    "print()\n",
    "print(r_channel, g_channel, b_channel)"
   ]
  },
  {
   "cell_type": "markdown",
   "metadata": {},
   "source": [
    "<a id=man></a>\n",
    "### Arrays Manipulation\n",
    "\n",
    "Numpy has built-in functions to manipulate the shape of the array. By using these methods, the `shape` attribute of the array can be changed.\n",
    "\n",
    "![](animations/shape_manipulation.gif)"
   ]
  },
  {
   "cell_type": "markdown",
   "metadata": {},
   "source": [
    "`array.reshape` function is often used to reshape the original array into desired shape.\n",
    "\n",
    "> Note: When reshaping the array, the total size of the array cannot be changed.\n",
    "\n",
    "e.g., an array having the shape of `(3,3)` cannot be reshaped into `(4,3)`. It will throw `ValueError: cannot reshape array of size 8 into shape (3,3)`\n",
    "\n",
    "> Tips: When you are only sure about one dimension for the array, you can use `-1` for the rest of array dimensions to let numpy automatically choose the rest."
   ]
  },
  {
   "cell_type": "code",
   "execution_count": 1,
   "metadata": {},
   "outputs": [
    {
     "name": "stdout",
     "output_type": "stream",
     "text": [
      "Original Array shape :  (2, 4)\n",
      "Reshaped Array shape :  (4, 2)\n",
      "(2, 4)\n"
     ]
    }
   ],
   "source": [
    "array = np.zeros((2, 4))\n",
    "print(\"Original Array shape : \", array.shape)\n",
    "\n",
    "reshaped = array.reshape((4, 2))\n",
    "print(\"Reshaped Array shape : \", reshaped.shape)\n",
    "\n",
    "# Here we only know the shape of one dimension\n",
    "unknown_shape = array.reshape((2, -1))\n",
    "print(unknown_shape.shape)"
   ]
  },
  {
   "cell_type": "markdown",
   "metadata": {},
   "source": [
    "So the array automatically figures out the rest of the shape in the dimension.\n",
    "\n",
    "You can use numpy built-in functions to stack arrays. There are three stacking functions `dstack`, `hstack` and `vstack`. Please refer to the above animation for more understanding of stacking arrays."
   ]
  },
  {
   "cell_type": "code",
   "execution_count": 73,
   "metadata": {},
   "outputs": [
    {
     "name": "stdout",
     "output_type": "stream",
     "text": [
      "(2, 4, 2)\n"
     ]
    }
   ],
   "source": [
    "# This method stack arrays in third axes\n",
    "dstack = np.dstack((array, array))\n",
    "print(dstack.shape)"
   ]
  },
  {
   "cell_type": "code",
   "execution_count": 74,
   "metadata": {},
   "outputs": [
    {
     "name": "stdout",
     "output_type": "stream",
     "text": [
      "(2, 8)\n"
     ]
    }
   ],
   "source": [
    "# This method stack arrays in second axes\n",
    "hstack = np.hstack((array, array))\n",
    "print(hstack.shape)"
   ]
  },
  {
   "cell_type": "code",
   "execution_count": 75,
   "metadata": {},
   "outputs": [
    {
     "name": "stdout",
     "output_type": "stream",
     "text": [
      "(4, 4)\n"
     ]
    }
   ],
   "source": [
    "# This method stack arrays in first axes\n",
    "vstack = np.vstack((array, array))\n",
    "print(vstack.shape)"
   ]
  },
  {
   "cell_type": "markdown",
   "metadata": {},
   "source": [
    "<a id=order></a>\n",
    "### Ordering\n",
    "\n",
    "In numpy, we can find the minimum and maximum of the array by simply calling built-in functions `np.min(array)` and `np.max(array)`. Also, the index of these values can be found by using`np.argmin(array)` and `np.argmax(array)`.\n",
    "\n",
    "![](animations/sorting.gif)"
   ]
  },
  {
   "cell_type": "code",
   "execution_count": 85,
   "metadata": {},
   "outputs": [
    {
     "name": "stdout",
     "output_type": "stream",
     "text": [
      "Original Array : \t\t\t [  2   1   2   5   2 100   2  99  12]\n",
      "Sorted Array : \t\t\t\t [  1   2   2   2   2   5  12  99 100]\n",
      "Minimum value in Array : \t\t 1\n",
      "Index where minimum value exists : \t 1\n",
      "Maximum value in Array : \t\t 100\n",
      "Index where maximum value exists : \t 5\n"
     ]
    }
   ],
   "source": [
    "array = np.array([2, 1, 2, 5, 2, 100, 2, 99, 12])\n",
    "\n",
    "# we can sort the array by\n",
    "sorted_array = np.sort(array)\n",
    "\n",
    "# Finding the min, max, argmin, argmax value is easy in numpy by:\n",
    "min_value = np.min(array)\n",
    "argmin = np.argmin(array)\n",
    "max_value = np.max(array)\n",
    "argmax = np.argmax(array)\n",
    "\n",
    "print(\"Original Array : \\t\\t\\t\", array)\n",
    "print(\"Sorted Array : \\t\\t\\t\\t\", sorted_array)\n",
    "print(\"Minimum value in Array : \\t\\t\", min_value)\n",
    "print(\"Index where minimum value exists : \\t\", argmin)\n",
    "print(\"Maximum value in Array : \\t\\t\", max_value)\n",
    "print(\"Index where maximum value exists : \\t\", argmax)"
   ]
  },
  {
   "cell_type": "markdown",
   "metadata": {},
   "source": [
    "<a id=stat></a>\n",
    "### Basic Statistics\n",
    "\n",
    "We can find the basic statistics values `Mean`, `Standard Deviation` and `Variance` in the array by using the numpy built-in functions."
   ]
  },
  {
   "cell_type": "code",
   "execution_count": 83,
   "metadata": {},
   "outputs": [
    {
     "name": "stdout",
     "output_type": "stream",
     "text": [
      "[ 0  1  2  3  4  5  6  7  8  9 10 11 12 13 14 15 16 17 18 19]\n"
     ]
    }
   ],
   "source": [
    "array = np.arange(20)\n",
    "print(array)"
   ]
  },
  {
   "cell_type": "code",
   "execution_count": 84,
   "metadata": {
    "scrolled": true
   },
   "outputs": [
    {
     "name": "stdout",
     "output_type": "stream",
     "text": [
      "Mean : \t\t\t9.5\n",
      "Standard Deviation : \t5.77\n",
      "Variance : \t\t33.25\n"
     ]
    }
   ],
   "source": [
    "mean = np.mean(array)\n",
    "std = np.std(array)\n",
    "var = np.var(array)\n",
    "\n",
    "print(f\"Mean : \\t\\t\\t{mean}\\nStandard Deviation : \\t{std:.2f}\\nVariance : \\t\\t{var}\")"
   ]
  },
  {
   "cell_type": "markdown",
   "metadata": {},
   "source": [
    "Although the above functions are built-in in numpy library, we can also implement them using equations:"
   ]
  },
  {
   "cell_type": "code",
   "execution_count": 94,
   "metadata": {},
   "outputs": [
    {
     "name": "stdout",
     "output_type": "stream",
     "text": [
      "9.5\n",
      "5.766281297335398\n",
      "35.0\n"
     ]
    }
   ],
   "source": [
    "mean = np.sum(array)/array.size\n",
    "print(mean)\n",
    "\n",
    "std = np.sqrt(np.sum((array-mean)**2)/array.size)\n",
    "print(std)\n",
    "\n",
    "var = np.sum((array-mean)**2)/(array.size-1)\n",
    "print(var)"
   ]
  },
  {
   "cell_type": "markdown",
   "metadata": {},
   "source": [
    "<a id=compare></a>\n",
    "### Simple Comparison\n",
    "\n",
    "Let's Compare the calculation time needed between List and ndarray."
   ]
  },
  {
   "cell_type": "code",
   "execution_count": 102,
   "metadata": {},
   "outputs": [
    {
     "name": "stdout",
     "output_type": "stream",
     "text": [
      "(1000000,)\n",
      "<class 'numpy.ndarray'>\n"
     ]
    }
   ],
   "source": [
    "# Let's try to compare for large numbers.\n",
    "array_obj = np.arange(1000000)\n",
    "\n",
    "# We get (100,100,100) elements in that array\n",
    "print(array_obj.shape)\n",
    "print(type(array_obj))"
   ]
  },
  {
   "cell_type": "code",
   "execution_count": 103,
   "metadata": {},
   "outputs": [
    {
     "name": "stdout",
     "output_type": "stream",
     "text": [
      "1000000\n",
      "<class 'list'>\n"
     ]
    }
   ],
   "source": [
    "# We can convert from ndarray object to list object with\n",
    "list_obj = [i for i in range(1000000)]\n",
    "print(len(list_obj))\n",
    "print(type(list_obj))"
   ]
  },
  {
   "cell_type": "markdown",
   "metadata": {},
   "source": [
    "<a id=code></a>\n",
    "#### Code Complexity\n",
    "\n",
    "Add 1 to each element in array and list. Here, we can see that list has to use For loop to iterate over each element whilst arrays in numpy carries out using numpy broadcasting."
   ]
  },
  {
   "cell_type": "code",
   "execution_count": 104,
   "metadata": {},
   "outputs": [],
   "source": [
    "# add 1 to list\n",
    "list_result = [i+1 for i in list_obj]\n",
    "\n",
    "# add 1 to array\n",
    "array_obj = array_obj + 1"
   ]
  },
  {
   "cell_type": "markdown",
   "metadata": {},
   "source": [
    "The above mentioned is the simplest one, where the dimension is only 1. Let's try with higher dimensions."
   ]
  },
  {
   "cell_type": "code",
   "execution_count": 2,
   "metadata": {},
   "outputs": [
    {
     "name": "stdout",
     "output_type": "stream",
     "text": [
      "<class 'numpy.ndarray'>\n",
      "<class 'list'>\n"
     ]
    }
   ],
   "source": [
    "# let's create 3d arrays\n",
    "array_obj = np.arange(100000).reshape(10,10,-1)\n",
    "print(type(array_obj))\n",
    "\n",
    "# We could convert array to list by:\n",
    "list_obj = array_obj.tolist()\n",
    "print(type(list_obj))"
   ]
  },
  {
   "cell_type": "code",
   "execution_count": 3,
   "metadata": {},
   "outputs": [],
   "source": [
    "# Add 1: to list\n",
    "for i in range(len(list_obj)):\n",
    "    for j in range(len(list_obj[0])):\n",
    "        for k in range(len(list_obj[0][0])):\n",
    "            list_obj[i][j][k] += 1"
   ]
  },
  {
   "cell_type": "code",
   "execution_count": 4,
   "metadata": {},
   "outputs": [],
   "source": [
    "# Add 1: to Array\n",
    "array_obj += 1"
   ]
  },
  {
   "cell_type": "markdown",
   "metadata": {},
   "source": [
    "<a id=speed></a>\n",
    "#### Speed"
   ]
  },
  {
   "cell_type": "code",
   "execution_count": 112,
   "metadata": {},
   "outputs": [
    {
     "name": "stdout",
     "output_type": "stream",
     "text": [
      "3.24 ms ± 101 µs per loop (mean ± std. dev. of 7 runs, 100 loops each)\n"
     ]
    }
   ],
   "source": [
    "%%timeit\n",
    "array_obj = np.arange(1000000)\n",
    "array_obj = array_obj + 1"
   ]
  },
  {
   "cell_type": "code",
   "execution_count": 113,
   "metadata": {
    "scrolled": true
   },
   "outputs": [
    {
     "name": "stdout",
     "output_type": "stream",
     "text": [
      "204 ms ± 58.7 ms per loop (mean ± std. dev. of 7 runs, 1 loop each)\n"
     ]
    }
   ],
   "source": [
    "%%timeit\n",
    "list_obj = [i for i in range(1000000)]\n",
    "list_obj = [i+1 for i in range(1000000)]"
   ]
  },
  {
   "cell_type": "markdown",
   "metadata": {},
   "source": [
    "We can see that doing one operation in creating an array is around 60 times faster than the list in the above comparison. As the size of the element and operations increase more, the difference will go higher."
   ]
  },
  {
   "cell_type": "markdown",
   "metadata": {},
   "source": [
    "<a id=resources></a>\n",
    "## Further Resources\n",
    "\n",
    "If you wanna know more about Numpy arrays, please visit this official Numpy [documentation](https://numpy.org/doc/1.19/user/quickstart.html). You can also learn more about Numpy arrays in this [blog post](https://realpython.com/numpy-array-programming/)."
   ]
  }
 ],
 "metadata": {
  "kernelspec": {
   "display_name": "Python 3",
   "language": "python",
   "name": "python3"
  },
  "language_info": {
   "codemirror_mode": {
    "name": "ipython",
    "version": 3
   },
   "file_extension": ".py",
   "mimetype": "text/x-python",
   "name": "python",
   "nbconvert_exporter": "python",
   "pygments_lexer": "ipython3",
   "version": "3.8.5"
  }
 },
 "nbformat": 4,
 "nbformat_minor": 4
}
