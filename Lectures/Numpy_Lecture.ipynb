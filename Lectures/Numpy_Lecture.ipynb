{
 "cells": [
  {
   "cell_type": "markdown",
   "metadata": {},
   "source": [
    "# Numpy\n",
    "\n",
    "Numpy is a strong third-party library emphasize on numerical calculation in python.<br>\n",
    "In short, numpy has a `ndArray` data type, which can process numbers, a large numbers of numbers,faster and more efficiently than `List`.\n",
    "\n",
    "## Table of Content\n",
    "\n",
    "### [The Basics](#basics)\n",
    " - [Create Array](#create)\n",
    " - [Basic Operations](#op)\n",
    " - [Indexing, Slicing and Iterating](#index)\n",
    " - [Array Manipulation](#man)\n",
    " - [Ordering](#order)\n",
    " - [Basic Statistics](#stat)\n",
    " \n",
    "### [Simple Comparison](#compare)\n",
    " - [Code Complexity](#code)\n",
    " - [Speed](#speed)\n",
    "\n",
    "### [Further Resources](#resource)"
   ]
  },
  {
   "cell_type": "markdown",
   "metadata": {},
   "source": [
    "<a id=basics></a>\n",
    "## The Basics\n",
    "\n",
    "<a id=create></a>\n",
    "### Create Array\n",
    "\n",
    "First, we will have to import `numpy` library. In python, it is\n",
    "```python\n",
    "import numpy as np\n",
    "```\n",
    "Here, `np` is a convention that abbreviate `numpy`. So that, later in that program, we just need to type `np` instead of `numpy`. \n",
    "\n",
    "There are many ways to create a numpy array.\n",
    "First, let's create an array from list.\n",
    "```python\n",
    "array = np.array(list)\n",
    "```"
   ]
  },
  {
   "cell_type": "code",
   "execution_count": 70,
   "metadata": {},
   "outputs": [
    {
     "name": "stdout",
     "output_type": "stream",
     "text": [
      "[[ 1  2  3  4  5]\n",
      " [ 6  7  8  9 10]]\n",
      "<class 'numpy.ndarray'>\n"
     ]
    }
   ],
   "source": [
    "import numpy as np\n",
    "\n",
    "# Let's Create an array\n",
    "array = np.array([[1, 2, 3, 4, 5],\n",
    "                  [6, 7, 8, 9, 10]])\n",
    "\n",
    "# Print Out the Array\n",
    "print(array)\n",
    "print(type(array))"
   ]
  },
  {
   "cell_type": "code",
   "execution_count": 72,
   "metadata": {},
   "outputs": [
    {
     "name": "stdout",
     "output_type": "stream",
     "text": [
      "int64\n",
      "8\n",
      "10\n",
      "2\n",
      "(2, 5)\n",
      "80\n"
     ]
    }
   ],
   "source": [
    "# The attributes in `ndarray`.\n",
    "# Check dtype of the array\n",
    "print(array.dtype)\n",
    "\n",
    "# Check item size (number of Bytes)\n",
    "print(array.itemsize)\n",
    "\n",
    "# Check array Size\n",
    "print(array.size)\n",
    "\n",
    "# Check number of axis\n",
    "print(array.ndim)\n",
    "\n",
    "# Check shape of array\n",
    "print(array.shape)\n",
    "\n",
    "# Check the byte of each element\n",
    "print(array.nbytes)"
   ]
  },
  {
   "cell_type": "markdown",
   "metadata": {},
   "source": [
    "We can also create array from range. `np.arange` function is just like `range()` in built-in python function.\n",
    "```python\n",
    "np.arange([start,] stop[, step,], dtype=None)\n",
    "```\n",
    "The square bracket '[ ]' here mean it has the default value set up. If we do not specify the value, it will take the default value.\n",
    "\n",
    "eg. the value for **start** argument is **0**."
   ]
  },
  {
   "cell_type": "code",
   "execution_count": 21,
   "metadata": {},
   "outputs": [
    {
     "name": "stdout",
     "output_type": "stream",
     "text": [
      "[ 0  1  2  3  4  5  6  7  8  9 10 11 12 13 14 15 16 17 18 19]\n",
      "[ 2  4  6  8 10 12 14 16 18]\n",
      "[]\n",
      "[40 38 36 34 32 30 28 26 24 22]\n",
      "[0.  0.3 0.6 0.9 1.2 1.5 1.8]\n"
     ]
    }
   ],
   "source": [
    "# Let's create another array with function\n",
    "\n",
    "array = np.arange(20)\n",
    "print(array)\n",
    "\n",
    "array = np.arange(2, 20, 2)\n",
    "print(array)\n",
    "\n",
    "# start and stop same\n",
    "array = np.arange(2, 2, 2)\n",
    "print(array)\n",
    "\n",
    "# Reverse\n",
    "array = np.arange(40, 20, -2)\n",
    "print(array)\n",
    "\n",
    "# Float points\n",
    "array = np.arange(0, 2, 0.3)\n",
    "print(array)"
   ]
  },
  {
   "cell_type": "markdown",
   "metadata": {},
   "source": [
    "But, with `np.arange`, we could not control the number of element in that array. So:\n",
    "```python\n",
    "array = np.linspace(start, stop, num=50)\n",
    "```\n",
    "\n",
    "Here, we could specify the number of element between the range that we want."
   ]
  },
  {
   "cell_type": "code",
   "execution_count": 68,
   "metadata": {},
   "outputs": [
    {
     "name": "stdout",
     "output_type": "stream",
     "text": [
      "(50,)\n",
      "[0.  0.5 1.  1.5 2. ]\n",
      "[20.         19.05263158 18.10526316 17.15789474 16.21052632 15.26315789\n",
      " 14.31578947 13.36842105 12.42105263 11.47368421 10.52631579  9.57894737\n",
      "  8.63157895  7.68421053  6.73684211  5.78947368  4.84210526  3.89473684\n",
      "  2.94736842  2.        ]\n",
      "[20. 20. 20. 20. 20.]\n"
     ]
    }
   ],
   "source": [
    "# Create with the count of array wanted\n",
    "array = np.linspace(0, 2, 5)\n",
    "print(array)\n",
    "\n",
    "# reverse\n",
    "array = np.linspace(20, 2, 20)\n",
    "print(array)\n",
    "\n",
    "# start and end same\n",
    "array = np.linspace(20, 20, 5)\n",
    "print(array)"
   ]
  },
  {
   "cell_type": "markdown",
   "metadata": {},
   "source": [
    "\n",
    "Or, we could just create array from the fly just describe the shape of array that we want.\n",
    "```python\n",
    "zeros = np.zeros(shape, dtype, order='C')\n",
    "ones = np.ones(shape, dtype, order='C')\n",
    "empty = np.empty(shape, dtype, order='C')\n",
    "```"
   ]
  },
  {
   "cell_type": "code",
   "execution_count": 23,
   "metadata": {},
   "outputs": [
    {
     "name": "stdout",
     "output_type": "stream",
     "text": [
      "[[0. 0. 0. 0. 0.]\n",
      " [0. 0. 0. 0. 0.]\n",
      " [0. 0. 0. 0. 0.]\n",
      " [0. 0. 0. 0. 0.]\n",
      " [0. 0. 0. 0. 0.]]\n",
      "float64\n",
      "[[0 0 0]\n",
      " [0 0 0]\n",
      " [0 0 0]]\n",
      "uint8\n"
     ]
    }
   ],
   "source": [
    "# Initialize array for place holder\n",
    "array = np.zeros((5,5))\n",
    "print(array)\n",
    "print(array.dtype)\n",
    "\n",
    "# Default dtype is float64\n",
    "array = np.zeros((3,3), dtype=np.uint8)\n",
    "print(array)\n",
    "print(array.dtype)"
   ]
  },
  {
   "cell_type": "code",
   "execution_count": 29,
   "metadata": {},
   "outputs": [
    {
     "name": "stdout",
     "output_type": "stream",
     "text": [
      "[[1. 1. 1. 1. 1.]\n",
      " [1. 1. 1. 1. 1.]\n",
      " [1. 1. 1. 1. 1.]\n",
      " [1. 1. 1. 1. 1.]\n",
      " [1. 1. 1. 1. 1.]]\n"
     ]
    }
   ],
   "source": [
    "array = np.ones((5,5))\n",
    "print(array)"
   ]
  },
  {
   "cell_type": "code",
   "execution_count": 30,
   "metadata": {},
   "outputs": [
    {
     "name": "stdout",
     "output_type": "stream",
     "text": [
      "[[1. 1. 1. 1. 1.]\n",
      " [1. 1. 1. 1. 1.]\n",
      " [1. 1. 1. 1. 1.]\n",
      " [1. 1. 1. 1. 1.]\n",
      " [1. 1. 1. 1. 1.]]\n"
     ]
    }
   ],
   "source": [
    "array = np.empty((5,5))\n",
    "print(array)"
   ]
  },
  {
   "cell_type": "code",
   "execution_count": 25,
   "metadata": {},
   "outputs": [
    {
     "name": "stdout",
     "output_type": "stream",
     "text": [
      "[1, 2, 3, 4] [1 2 3 4]\n"
     ]
    }
   ],
   "source": [
    "# Create with existing Variable\n",
    "\n",
    "list_var = [1, 2, 3, 4]\n",
    "array = np.array(list_var)\n",
    "print(list_var, array)"
   ]
  },
  {
   "cell_type": "code",
   "execution_count": 28,
   "metadata": {},
   "outputs": [
    {
     "name": "stdout",
     "output_type": "stream",
     "text": [
      "[[1, 2, 3], [4, 5, 6]] \n",
      " [[1 2 3]\n",
      " [4 5 6]]\n",
      "int64\n"
     ]
    }
   ],
   "source": [
    "nested_list = [[1, 2, 3], [4, 5, 6]]\n",
    "nested_array = np.array(nested_list)\n",
    "\n",
    "print(nested_list, '\\n', nested_array)\n",
    "print(nested_array.dtype)"
   ]
  },
  {
   "cell_type": "code",
   "execution_count": 29,
   "metadata": {},
   "outputs": [
    {
     "name": "stdout",
     "output_type": "stream",
     "text": [
      "<class 'float'> float64\n",
      "[1.0, 2.0, 3.0] [1. 2. 3.]\n"
     ]
    }
   ],
   "source": [
    "list_var = [1., 2., 3.]\n",
    "array = np.array(list_var)\n",
    "\n",
    "print(type(list_var[0]), array.dtype)\n",
    "print(list_var, array)"
   ]
  },
  {
   "cell_type": "markdown",
   "metadata": {},
   "source": [
    "<a id=op></a>\n",
    "### Basic Operations"
   ]
  },
  {
   "cell_type": "code",
   "execution_count": 1,
   "metadata": {},
   "outputs": [
    {
     "name": "stdout",
     "output_type": "stream",
     "text": [
      "Addition of two array : \t [5 7 9]\n",
      "Subtraction of two array : \t [-3 -3 -3]\n",
      "Multiplication of two array : \t [ 4 10 18]\n",
      "Division of two array : \t [0.25 0.4  0.5 ]\n"
     ]
    }
   ],
   "source": [
    "import numpy as np\n",
    "# Simple Arithmetic Operations\n",
    "array_a = np.array([1, 2, 3])\n",
    "array_b = np.array([4, 5, 6])\n",
    "\n",
    "print(\"Addition of two array : \\t\", array_a + array_b)\n",
    "print(\"Subtraction of two array : \\t\", array_a - array_b)\n",
    "print(\"Multiplication of two array : \\t\", array_a * array_b)\n",
    "print(\"Division of two array : \\t\", array_a / array_b)"
   ]
  },
  {
   "cell_type": "markdown",
   "metadata": {},
   "source": [
    "There are many scientific functions...."
   ]
  },
  {
   "cell_type": "code",
   "execution_count": 4,
   "metadata": {},
   "outputs": [
    {
     "name": "stdout",
     "output_type": "stream",
     "text": [
      "[0.84147098 0.90929743 0.14112001] \n",
      " [ 0.54030231 -0.41614684 -0.9899925 ] \n",
      " [ 2.71828183  7.3890561  20.08553692] \n",
      " [0.         0.69314718 1.09861229]\n"
     ]
    }
   ],
   "source": [
    "# Or we could apply basic math functions [sin, cos] to arrays.\n",
    "sine_array = np.sin(array_a)\n",
    "cos_array = np.cos(array_a)\n",
    "exp_array = np.exp(array_a)\n",
    "log_array = np.log(array_a)\n",
    "\n",
    "print(sine_array, '\\n', cos_array, '\\n', exp_array, '\\n', log_array)"
   ]
  },
  {
   "cell_type": "code",
   "execution_count": 8,
   "metadata": {},
   "outputs": [
    {
     "name": "stdout",
     "output_type": "stream",
     "text": [
      "[False  True  True]\n"
     ]
    }
   ],
   "source": [
    "# We could check elements with threshold value\n",
    "array_b = np.array([4, 5, 6])\n",
    "check = array_b >= 5\n",
    "print(check)"
   ]
  },
  {
   "cell_type": "markdown",
   "metadata": {},
   "source": [
    "<a id=index></a>\n",
    "### Indexing, Slicing and Iterating\n",
    "\n",
    "![](animations/index_animation.gif)"
   ]
  },
  {
   "cell_type": "code",
   "execution_count": 60,
   "metadata": {},
   "outputs": [
    {
     "name": "stdout",
     "output_type": "stream",
     "text": [
      "[ 0  2  4  6  8 10 12 14 16 18]\n"
     ]
    }
   ],
   "source": [
    "a = np.arange(0, 20, 2)\n",
    "print(a)"
   ]
  },
  {
   "cell_type": "code",
   "execution_count": 61,
   "metadata": {},
   "outputs": [
    {
     "name": "stdout",
     "output_type": "stream",
     "text": [
      "2\n"
     ]
    }
   ],
   "source": [
    "# Index : Select sepecific element\n",
    "element = a[1]\n",
    "print(element)"
   ]
  },
  {
   "cell_type": "code",
   "execution_count": 62,
   "metadata": {},
   "outputs": [
    {
     "name": "stdout",
     "output_type": "stream",
     "text": [
      "[2 4 6 8]\n"
     ]
    }
   ],
   "source": [
    "# Slicing : Select Range of element\n",
    "range_element = a[1:5]\n",
    "print(range_element)"
   ]
  },
  {
   "cell_type": "code",
   "execution_count": 65,
   "metadata": {},
   "outputs": [
    {
     "name": "stdout",
     "output_type": "stream",
     "text": [
      "[16 14 12 10  8  6]\n"
     ]
    }
   ],
   "source": [
    "# Reverse Slicing\n",
    "reverse_element = a[8:2:-1]\n",
    "print(reverse_element)"
   ]
  },
  {
   "cell_type": "code",
   "execution_count": 67,
   "metadata": {},
   "outputs": [
    {
     "name": "stdout",
     "output_type": "stream",
     "text": [
      "0\n",
      "2\n",
      "4\n",
      "6\n",
      "8\n",
      "10\n",
      "12\n",
      "14\n",
      "16\n",
      "18\n"
     ]
    }
   ],
   "source": [
    "# Iteration\n",
    "for i in a:\n",
    "    print(i)"
   ]
  },
  {
   "cell_type": "markdown",
   "metadata": {},
   "source": [
    "<a id=man></a>\n",
    "### Array Manipulation\n",
    "\n",
    "We could manipulate shape of array in numpy.\n",
    "![](animations/stacking_animation.gif)"
   ]
  },
  {
   "cell_type": "code",
   "execution_count": 68,
   "metadata": {},
   "outputs": [
    {
     "name": "stdout",
     "output_type": "stream",
     "text": [
      "(3, 3)\n"
     ]
    }
   ],
   "source": [
    "array = np.zeros((3,3))\n",
    "print(array.shape)"
   ]
  },
  {
   "cell_type": "code",
   "execution_count": 70,
   "metadata": {},
   "outputs": [
    {
     "name": "stdout",
     "output_type": "stream",
     "text": [
      "(3, 3, 2)\n"
     ]
    }
   ],
   "source": [
    "# This method create a new axis and stack in that axis\n",
    "dstack = np.dstack((array, array))\n",
    "print(dstack.shape)"
   ]
  },
  {
   "cell_type": "code",
   "execution_count": 71,
   "metadata": {},
   "outputs": [
    {
     "name": "stdout",
     "output_type": "stream",
     "text": [
      "(3, 6)\n"
     ]
    }
   ],
   "source": [
    "hstack = np.hstack((array, array))\n",
    "print(hstack.shape)"
   ]
  },
  {
   "cell_type": "markdown",
   "metadata": {},
   "source": [
    "<a id=order></a>\n",
    "### Ordering\n",
    "\n",
    "Sort or find the **Max**, **Min** value in the array.\n",
    "![](animations/min_max_animation.gif)"
   ]
  },
  {
   "cell_type": "code",
   "execution_count": 85,
   "metadata": {},
   "outputs": [
    {
     "name": "stdout",
     "output_type": "stream",
     "text": [
      "Original Array : \t\t\t [  2   1   2   5   2 100   2  99  12]\n",
      "Sorted Array : \t\t\t\t [  1   2   2   2   2   5  12  99 100]\n",
      "Minimum value in Array : \t\t 1\n",
      "Index where minimum value exists : \t 1\n",
      "Maximum value in Array : \t\t 100\n",
      "Index where maximum value exists : \t 5\n"
     ]
    }
   ],
   "source": [
    "array = np.array([2, 1, 2, 5, 2, 100, 2, 99, 12])\n",
    "sorted_array = np.sort(array)\n",
    "min_value = np.min(array)\n",
    "argmin = np.argmin(array)\n",
    "max_value = np.max(array)\n",
    "argmax = np.argmax(array)\n",
    "\n",
    "print(\"Original Array : \\t\\t\\t\", array)\n",
    "print(\"Sorted Array : \\t\\t\\t\\t\", sorted_array)\n",
    "print(\"Minimum value in Array : \\t\\t\", min_value)\n",
    "print(\"Index where minimum value exists : \\t\", argmin)\n",
    "print(\"Maximum value in Array : \\t\\t\", max_value)\n",
    "print(\"Index where maximum value exists : \\t\", argmax)"
   ]
  },
  {
   "cell_type": "markdown",
   "metadata": {},
   "source": [
    "<a id=stat></a>\n",
    "### Basic Statistics\n",
    "\n",
    "We could find the basic statistics value `Mean`, `Standard Deviation` and `Variance` in the array."
   ]
  },
  {
   "cell_type": "code",
   "execution_count": 9,
   "metadata": {},
   "outputs": [
    {
     "name": "stdout",
     "output_type": "stream",
     "text": [
      "[ 0  1  2  3  4  5  6  7  8  9 10 11 12 13 14 15 16 17 18 19]\n"
     ]
    }
   ],
   "source": [
    "array = np.arange(20)\n",
    "print(array)"
   ]
  },
  {
   "cell_type": "code",
   "execution_count": 10,
   "metadata": {},
   "outputs": [
    {
     "name": "stdout",
     "output_type": "stream",
     "text": [
      "Mean : \t\t\t9.5\n",
      "Standard Deviation : \t5.77\n",
      "Variance : \t\t33.25\n"
     ]
    }
   ],
   "source": [
    "mean = np.mean(array)\n",
    "std = np.std(array)\n",
    "var = np.var(array)\n",
    "\n",
    "print(f\"Mean : \\t\\t\\t{mean}\\nStandard Deviation : \\t{std:.2f}\\nVariance : \\t\\t{var}\")"
   ]
  },
  {
   "cell_type": "markdown",
   "metadata": {},
   "source": [
    "<a id=compare></a>\n",
    "### Simple Comparison\n",
    "\n",
    "\n",
    "\n",
    "Let's Compare the calculation time needed between List and ndarray."
   ]
  },
  {
   "cell_type": "code",
   "execution_count": 44,
   "metadata": {},
   "outputs": [
    {
     "name": "stdout",
     "output_type": "stream",
     "text": [
      "[[1, 2, 3], [4, 5, 6]]\n",
      "\n",
      "[[1 2 3]\n",
      " [4 5 6]]\n",
      "\n",
      "[[2, 3, 4], [5, 6, 7]]\n",
      "\n",
      "[[2 3 4]\n",
      " [5 6 7]]\n"
     ]
    }
   ],
   "source": [
    "a = [[1, 2, 3], [4, 5, 6]]\n",
    "print(a)\n",
    "print()\n",
    "\n",
    "array_a = np.array(a)\n",
    "print(array_a)\n",
    "print()\n",
    "\n",
    "# Add 1: to list, We have to use for loop to get each element in list.\n",
    "result = []\n",
    "for i in a:\n",
    "    result_ = []\n",
    "    for j in i:\n",
    "        result_.append(j+1)\n",
    "    result.append(result_)\n",
    "print(result)\n",
    "print()\n",
    "\n",
    "# Add 1: to array, numpy use broadcasting to get every element in array.\n",
    "array_a += 1\n",
    "print(array_a)"
   ]
  },
  {
   "cell_type": "code",
   "execution_count": 45,
   "metadata": {},
   "outputs": [
    {
     "name": "stdout",
     "output_type": "stream",
     "text": [
      "(50, 100, 200)\n"
     ]
    }
   ],
   "source": [
    "# Let's try to compare for large numbers.\n",
    "np_array = np.arange(1000000)\n",
    "np_array = np.reshape(np_array, (50,100, -1))\n",
    "\n",
    "# We get (100,100,100) elements in that array\n",
    "print(np_array.shape)"
   ]
  },
  {
   "cell_type": "code",
   "execution_count": 47,
   "metadata": {},
   "outputs": [
    {
     "name": "stdout",
     "output_type": "stream",
     "text": [
      "200\n",
      "<class 'list'>\n"
     ]
    }
   ],
   "source": [
    "# We can convert from ndarray object to list object with\n",
    "list_obj = np_array.tolist()\n",
    "print(len(list_obj[0][0]))\n",
    "print(type(list_obj))"
   ]
  },
  {
   "cell_type": "markdown",
   "metadata": {},
   "source": [
    "<a id=code></a>\n",
    "#### Code Complexity"
   ]
  },
  {
   "cell_type": "code",
   "execution_count": 48,
   "metadata": {},
   "outputs": [],
   "source": [
    "# Add 1: to list\n",
    "for i in range(len(list_obj)):\n",
    "    for j in range(len(list_obj[0])):\n",
    "        for k in range(len(list_obj[0][0])):\n",
    "            list_obj[i][j][k] += 1"
   ]
  },
  {
   "cell_type": "code",
   "execution_count": 49,
   "metadata": {},
   "outputs": [],
   "source": [
    "# Add 1: to Array\n",
    "np_array += 1"
   ]
  },
  {
   "cell_type": "markdown",
   "metadata": {},
   "source": [
    "<a id=speed></a>\n",
    "#### Speed"
   ]
  },
  {
   "cell_type": "code",
   "execution_count": 50,
   "metadata": {},
   "outputs": [
    {
     "name": "stdout",
     "output_type": "stream",
     "text": [
      "3.3 ms ± 61 µs per loop (mean ± std. dev. of 7 runs, 100 loops each)\n"
     ]
    }
   ],
   "source": [
    "%%timeit\n",
    "np_array = np.arange(1000000)\n",
    "np_array = np.reshape(np_array, (50,100, -1))\n",
    "np_array+=1"
   ]
  },
  {
   "cell_type": "code",
   "execution_count": 51,
   "metadata": {},
   "outputs": [
    {
     "name": "stdout",
     "output_type": "stream",
     "text": [
      "190 ms ± 4.54 ms per loop (mean ± std. dev. of 7 runs, 1 loop each)\n"
     ]
    }
   ],
   "source": [
    "%%timeit\n",
    "# Add 1: to list\n",
    "for i in range(len(list_obj)):\n",
    "    for j in range(len(list_obj[0])):\n",
    "        for k in range(len(list_obj[0][0])):\n",
    "            list_obj[i][j][k] += 1"
   ]
  },
  {
   "cell_type": "markdown",
   "metadata": {},
   "source": [
    "Every time you run, the value might be a little different, but:\n",
    "![](images/run_test.png)\n",
    "\n",
    "In array, it only costs `4.61ms` when in list it costs `186ms`.<br>\n",
    "That is so much faster in numpy."
   ]
  },
  {
   "cell_type": "markdown",
   "metadata": {},
   "source": [
    "<a id=resources></a>\n",
    "## Further Resources\n",
    "\n",
    "If you wanna know about Numpy array, please visit this official Numpy [documentation](https://numpy.org/doc/1.19/user/quickstart.html). And also this blog post about "
   ]
  },
  {
   "cell_type": "code",
   "execution_count": null,
   "metadata": {},
   "outputs": [],
   "source": []
  }
 ],
 "metadata": {
  "kernelspec": {
   "display_name": "Python 3",
   "language": "python",
   "name": "python3"
  },
  "language_info": {
   "codemirror_mode": {
    "name": "ipython",
    "version": 3
   },
   "file_extension": ".py",
   "mimetype": "text/x-python",
   "name": "python",
   "nbconvert_exporter": "python",
   "pygments_lexer": "ipython3",
   "version": "3.8.5"
  }
 },
 "nbformat": 4,
 "nbformat_minor": 4
}
